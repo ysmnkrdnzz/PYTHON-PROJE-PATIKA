{
 "cells": [
  {
   "cell_type": "code",
   "execution_count": 1,
   "id": "7aaa65cc-a16f-45d8-ba13-4f36fc3a47ae",
   "metadata": {},
   "outputs": [
    {
     "data": {
      "text/plain": [
       "[1, 'a', 'cat', 2, 3, 'dog', 4, 5]"
      ]
     },
     "execution_count": 1,
     "metadata": {},
     "output_type": "execute_result"
    }
   ],
   "source": [
    "#SORU 1\n",
    "\n",
    "def flatten(lst):\n",
    "    flat_list = []\n",
    "\n",
    "    for item in lst:\n",
    "        if type(item) == list:\n",
    "            flat_list.extend(flatten(item))\n",
    "        else:\n",
    "            flat_list.append(item)\n",
    "    \n",
    "    return flat_list\n",
    "\n",
    "flatten([[1,'a',['cat'],2],[[[3]],'dog'],4,5])"
   ]
  },
  {
   "cell_type": "code",
   "execution_count": 16,
   "id": "adf65e28-ef9e-4137-88bf-155921feb7ce",
   "metadata": {},
   "outputs": [
    {
     "data": {
      "text/plain": [
       "[[7, 6, 5], [4, 3], 6, 5, [2, 1]]"
      ]
     },
     "execution_count": 16,
     "metadata": {},
     "output_type": "execute_result"
    }
   ],
   "source": [
    "#SORU 2\n",
    "def reverse_list(lst):\n",
    "    reversed_list = []  # Sonuç listesi\n",
    "    for item in lst:\n",
    "        if type(item)==list:  # Eğer öğe bir listeyse\n",
    "            reversed_list.append(item[::-1])  # İç listeyi tersine çevir ve ekle\n",
    "        else:\n",
    "            reversed_list.append(item)  # Liste değilse, öğeyi direkt ekle\n",
    "    return reversed_list[::-1]  # Sonuç listesini tersine çevir ve döndür\n",
    "\n",
    "reverse_list([[1, 2], 5, 6, [3, 4], [5, 6, 7]])"
   ]
  },
  {
   "cell_type": "code",
   "execution_count": null,
   "id": "2033d5fd-4e92-498f-a747-dca1b830c630",
   "metadata": {},
   "outputs": [],
   "source": []
  }
 ],
 "metadata": {
  "kernelspec": {
   "display_name": "Python 3 (ipykernel)",
   "language": "python",
   "name": "python3"
  },
  "language_info": {
   "codemirror_mode": {
    "name": "ipython",
    "version": 3
   },
   "file_extension": ".py",
   "mimetype": "text/x-python",
   "name": "python",
   "nbconvert_exporter": "python",
   "pygments_lexer": "ipython3",
   "version": "3.12.2"
  }
 },
 "nbformat": 4,
 "nbformat_minor": 5
}
